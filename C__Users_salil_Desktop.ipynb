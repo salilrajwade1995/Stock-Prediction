{
 "cells": [
  {
   "cell_type": "code",
   "execution_count": 1,
   "metadata": {},
   "outputs": [],
   "source": [
    "import pandas as pd\n",
    "import matplotlib.pyplot as plt\n",
    "from matplotlib import style \n",
    "import os\n",
    "import pandas_datareader.data as web\n",
    "import datetime as dt"
   ]
  },
  {
   "cell_type": "code",
   "execution_count": 2,
   "metadata": {},
   "outputs": [],
   "source": [
    "#We use the DataReader to import the file into Python. \n",
    "#We use Yahoo! finance to do this \n",
    "#We just specify the start and end dates for the stocks we want\n",
    "start = dt.datetime(2000,1,1)\n",
    "end = dt.datetime(2018,12,31)"
   ]
  },
  {
   "cell_type": "code",
   "execution_count": 3,
   "metadata": {},
   "outputs": [],
   "source": [
    "#To search for the name of the stock, search --> \"Company Name\" NASDAQ\n",
    "#GRPN stands for 'Groupon'\n",
    "#The second argument, \"Yahoo\" is from where we want to import the data. \n",
    "groupon = web.DataReader('GRPN' , 'yahoo', start, end)"
   ]
  },
  {
   "cell_type": "code",
   "execution_count": 5,
   "metadata": {},
   "outputs": [],
   "source": [
    "#Now, let us save the file as a CSV & import back into the System\n",
    "os.chdir(r'C:\\Users\\salil\\Desktop')\n",
    "groupon.to_csv('groupon.csv')\n",
    "groupon = pd.read_csv('groupon.csv')"
   ]
  },
  {
   "cell_type": "code",
   "execution_count": 6,
   "metadata": {},
   "outputs": [],
   "source": [
    "groupon['Date'] = pd.to_datetime(groupon['Date'], format = \"%Y-%m-%d\")"
   ]
  },
  {
   "cell_type": "code",
   "execution_count": 7,
   "metadata": {},
   "outputs": [
    {
     "data": {
      "text/html": [
       "<div>\n",
       "<style scoped>\n",
       "    .dataframe tbody tr th:only-of-type {\n",
       "        vertical-align: middle;\n",
       "    }\n",
       "\n",
       "    .dataframe tbody tr th {\n",
       "        vertical-align: top;\n",
       "    }\n",
       "\n",
       "    .dataframe thead th {\n",
       "        text-align: right;\n",
       "    }\n",
       "</style>\n",
       "<table border=\"1\" class=\"dataframe\">\n",
       "  <thead>\n",
       "    <tr style=\"text-align: right;\">\n",
       "      <th></th>\n",
       "      <th>Date</th>\n",
       "      <th>High</th>\n",
       "      <th>Low</th>\n",
       "      <th>Open</th>\n",
       "      <th>Close</th>\n",
       "      <th>Volume</th>\n",
       "      <th>Adj Close</th>\n",
       "    </tr>\n",
       "  </thead>\n",
       "  <tbody>\n",
       "    <tr>\n",
       "      <th>0</th>\n",
       "      <td>2011-11-04</td>\n",
       "      <td>31.139999</td>\n",
       "      <td>25.900000</td>\n",
       "      <td>28.000000</td>\n",
       "      <td>26.110001</td>\n",
       "      <td>49813000</td>\n",
       "      <td>26.110001</td>\n",
       "    </tr>\n",
       "    <tr>\n",
       "      <th>1</th>\n",
       "      <td>2011-11-07</td>\n",
       "      <td>27.780001</td>\n",
       "      <td>24.590000</td>\n",
       "      <td>27.440001</td>\n",
       "      <td>25.969999</td>\n",
       "      <td>9516000</td>\n",
       "      <td>25.969999</td>\n",
       "    </tr>\n",
       "    <tr>\n",
       "      <th>2</th>\n",
       "      <td>2011-11-08</td>\n",
       "      <td>26.209999</td>\n",
       "      <td>24.750000</td>\n",
       "      <td>26.200001</td>\n",
       "      <td>24.900000</td>\n",
       "      <td>4266800</td>\n",
       "      <td>24.900000</td>\n",
       "    </tr>\n",
       "    <tr>\n",
       "      <th>3</th>\n",
       "      <td>2011-11-09</td>\n",
       "      <td>24.559999</td>\n",
       "      <td>22.760000</td>\n",
       "      <td>23.510000</td>\n",
       "      <td>24.020000</td>\n",
       "      <td>4544100</td>\n",
       "      <td>24.020000</td>\n",
       "    </tr>\n",
       "    <tr>\n",
       "      <th>4</th>\n",
       "      <td>2011-11-10</td>\n",
       "      <td>24.959999</td>\n",
       "      <td>23.200001</td>\n",
       "      <td>24.129999</td>\n",
       "      <td>24.410000</td>\n",
       "      <td>2344000</td>\n",
       "      <td>24.410000</td>\n",
       "    </tr>\n",
       "  </tbody>\n",
       "</table>\n",
       "</div>"
      ],
      "text/plain": [
       "        Date       High        Low       Open      Close    Volume  Adj Close\n",
       "0 2011-11-04  31.139999  25.900000  28.000000  26.110001  49813000  26.110001\n",
       "1 2011-11-07  27.780001  24.590000  27.440001  25.969999   9516000  25.969999\n",
       "2 2011-11-08  26.209999  24.750000  26.200001  24.900000   4266800  24.900000\n",
       "3 2011-11-09  24.559999  22.760000  23.510000  24.020000   4544100  24.020000\n",
       "4 2011-11-10  24.959999  23.200001  24.129999  24.410000   2344000  24.410000"
      ]
     },
     "execution_count": 7,
     "metadata": {},
     "output_type": "execute_result"
    }
   ],
   "source": [
    "groupon.head()"
   ]
  },
  {
   "cell_type": "code",
   "execution_count": 8,
   "metadata": {},
   "outputs": [
    {
     "data": {
      "text/html": [
       "<div>\n",
       "<style scoped>\n",
       "    .dataframe tbody tr th:only-of-type {\n",
       "        vertical-align: middle;\n",
       "    }\n",
       "\n",
       "    .dataframe tbody tr th {\n",
       "        vertical-align: top;\n",
       "    }\n",
       "\n",
       "    .dataframe thead th {\n",
       "        text-align: right;\n",
       "    }\n",
       "</style>\n",
       "<table border=\"1\" class=\"dataframe\">\n",
       "  <thead>\n",
       "    <tr style=\"text-align: right;\">\n",
       "      <th></th>\n",
       "      <th>Date</th>\n",
       "      <th>High</th>\n",
       "      <th>Low</th>\n",
       "      <th>Open</th>\n",
       "      <th>Close</th>\n",
       "      <th>Volume</th>\n",
       "      <th>Adj Close</th>\n",
       "    </tr>\n",
       "  </thead>\n",
       "  <tbody>\n",
       "    <tr>\n",
       "      <th>1794</th>\n",
       "      <td>2018-12-24</td>\n",
       "      <td>2.92</td>\n",
       "      <td>2.81</td>\n",
       "      <td>2.86</td>\n",
       "      <td>2.87</td>\n",
       "      <td>6634200</td>\n",
       "      <td>2.87</td>\n",
       "    </tr>\n",
       "    <tr>\n",
       "      <th>1795</th>\n",
       "      <td>2018-12-26</td>\n",
       "      <td>3.15</td>\n",
       "      <td>2.89</td>\n",
       "      <td>2.91</td>\n",
       "      <td>3.14</td>\n",
       "      <td>7420800</td>\n",
       "      <td>3.14</td>\n",
       "    </tr>\n",
       "    <tr>\n",
       "      <th>1796</th>\n",
       "      <td>2018-12-27</td>\n",
       "      <td>3.18</td>\n",
       "      <td>3.03</td>\n",
       "      <td>3.08</td>\n",
       "      <td>3.15</td>\n",
       "      <td>5058100</td>\n",
       "      <td>3.15</td>\n",
       "    </tr>\n",
       "    <tr>\n",
       "      <th>1797</th>\n",
       "      <td>2018-12-28</td>\n",
       "      <td>3.22</td>\n",
       "      <td>3.10</td>\n",
       "      <td>3.16</td>\n",
       "      <td>3.20</td>\n",
       "      <td>4061800</td>\n",
       "      <td>3.20</td>\n",
       "    </tr>\n",
       "    <tr>\n",
       "      <th>1798</th>\n",
       "      <td>2018-12-31</td>\n",
       "      <td>3.27</td>\n",
       "      <td>3.17</td>\n",
       "      <td>3.21</td>\n",
       "      <td>3.20</td>\n",
       "      <td>5869600</td>\n",
       "      <td>3.20</td>\n",
       "    </tr>\n",
       "  </tbody>\n",
       "</table>\n",
       "</div>"
      ],
      "text/plain": [
       "           Date  High   Low  Open  Close   Volume  Adj Close\n",
       "1794 2018-12-24  2.92  2.81  2.86   2.87  6634200       2.87\n",
       "1795 2018-12-26  3.15  2.89  2.91   3.14  7420800       3.14\n",
       "1796 2018-12-27  3.18  3.03  3.08   3.15  5058100       3.15\n",
       "1797 2018-12-28  3.22  3.10  3.16   3.20  4061800       3.20\n",
       "1798 2018-12-31  3.27  3.17  3.21   3.20  5869600       3.20"
      ]
     },
     "execution_count": 8,
     "metadata": {},
     "output_type": "execute_result"
    }
   ],
   "source": [
    "groupon.tail()"
   ]
  },
  {
   "cell_type": "code",
   "execution_count": 9,
   "metadata": {},
   "outputs": [
    {
     "data": {
      "image/png": "[encoded data removed]",
      "text/plain": [
       "<Figure size 432x288 with 1 Axes>"
      ]
     },
     "metadata": {
      "needs_background": "light"
     },
     "output_type": "display_data"
    }
   ],
   "source": [
    "#Let us plot a simple graph of the Closing price for each day over the years\n",
    "groupon.plot(x = 'Date', y = 'Close', style = '-')\n",
    "plt.show()"
   ]
  },
  {
   "cell_type": "code",
   "execution_count": 21,
   "metadata": {},
   "outputs": [
    {
     "data": {
      "text/plain": [
       "<matplotlib.axes._subplots.AxesSubplot at 0x1d2fbd7d978>"
      ]
     },
     "execution_count": 21,
     "metadata": {},
     "output_type": "execute_result"
    },
    {
     "data": {
      "image/png": "[encoded data removed]",
      "text/plain": [
       "<Figure size 432x288 with 1 Axes>"
      ]
     },
     "metadata": {
      "needs_background": "light"
     },
     "output_type": "display_data"
    }
   ],
   "source": [
    "#Let us check for each month every year when the average price is highest\n",
    "#We save the original dataset in a different name for our convinience\n",
    "grpn2 = groupon\n",
    "grpn2.index = grpn2['Date']\n",
    "grpn2['Close'].resample('M').sum().plot(style ='-', color = 'red')"
   ]
  },
  {
   "cell_type": "code",
   "execution_count": 11,
   "metadata": {},
   "outputs": [],
   "source": [
    "#As we see from the graph above, there is a lot of variation up until 2016\n",
    "#Let's consider the stock prices 2016 onwards\n",
    "grpn_new = groupon[groupon['Date'] > '2016']"
   ]
  },
  {
   "cell_type": "code",
   "execution_count": 12,
   "metadata": {},
   "outputs": [],
   "source": [
    "#Let's consider only the Closing price since we are more interested in prediction\n",
    "close_grp = grpn_new[['Date', 'Close']].copy()"
   ]
  },
  {
   "cell_type": "code",
   "execution_count": 13,
   "metadata": {},
   "outputs": [
    {
     "data": {
      "text/html": [
       "<div>\n",
       "<style scoped>\n",
       "    .dataframe tbody tr th:only-of-type {\n",
       "        vertical-align: middle;\n",
       "    }\n",
       "\n",
       "    .dataframe tbody tr th {\n",
       "        vertical-align: top;\n",
       "    }\n",
       "\n",
       "    .dataframe thead th {\n",
       "        text-align: right;\n",
       "    }\n",
       "</style>\n",
       "<table border=\"1\" class=\"dataframe\">\n",
       "  <thead>\n",
       "    <tr style=\"text-align: right;\">\n",
       "      <th></th>\n",
       "      <th>Date</th>\n",
       "      <th>Close</th>\n",
       "    </tr>\n",
       "  </thead>\n",
       "  <tbody>\n",
       "    <tr>\n",
       "      <th>1045</th>\n",
       "      <td>2016-01-04</td>\n",
       "      <td>3.00</td>\n",
       "    </tr>\n",
       "    <tr>\n",
       "      <th>1046</th>\n",
       "      <td>2016-01-05</td>\n",
       "      <td>3.13</td>\n",
       "    </tr>\n",
       "    <tr>\n",
       "      <th>1047</th>\n",
       "      <td>2016-01-06</td>\n",
       "      <td>3.03</td>\n",
       "    </tr>\n",
       "    <tr>\n",
       "      <th>1048</th>\n",
       "      <td>2016-01-07</td>\n",
       "      <td>2.86</td>\n",
       "    </tr>\n",
       "    <tr>\n",
       "      <th>1049</th>\n",
       "      <td>2016-01-08</td>\n",
       "      <td>2.78</td>\n",
       "    </tr>\n",
       "  </tbody>\n",
       "</table>\n",
       "</div>"
      ],
      "text/plain": [
       "           Date  Close\n",
       "1045 2016-01-04   3.00\n",
       "1046 2016-01-05   3.13\n",
       "1047 2016-01-06   3.03\n",
       "1048 2016-01-07   2.86\n",
       "1049 2016-01-08   2.78"
      ]
     },
     "execution_count": 13,
     "metadata": {},
     "output_type": "execute_result"
    }
   ],
   "source": [
    "close_grp.head()"
   ]
  },
  {
   "cell_type": "code",
   "execution_count": 23,
   "metadata": {},
   "outputs": [
    {
     "data": {
      "text/plain": [
       "<matplotlib.axes._subplots.AxesSubplot at 0x1d2fbbebe80>"
      ]
     },
     "execution_count": 23,
     "metadata": {},
     "output_type": "execute_result"
    },
    {
     "data": {
      "image/png": "[encoded data removed]",
      "text/plain": [
       "<Figure size 432x288 with 1 Axes>"
      ]
     },
     "metadata": {
      "needs_background": "light"
     },
     "output_type": "display_data"
    }
   ],
   "source": [
    "close_grp.index = close_grp['Date']\n",
    "close_grp['Close'].resample('M').sum().plot(style ='-', color = 'red')"
   ]
  },
  {
   "cell_type": "code",
   "execution_count": null,
   "metadata": {},
   "outputs": [],
   "source": []
  }
 ],
 "metadata": {
  "kernelspec": {
   "display_name": "Python 3",
   "language": "python",
   "name": "python3"
  },
  "language_info": {
   "codemirror_mode": {
    "name": "ipython",
    "version": 3
   },
   "file_extension": ".py",
   "mimetype": "text/x-python",
   "name": "python",
   "nbconvert_exporter": "python",
   "pygments_lexer": "ipython3",
   "version": "3.6.8"
  }
 },
 "nbformat": 4,
 "nbformat_minor": 2
}
